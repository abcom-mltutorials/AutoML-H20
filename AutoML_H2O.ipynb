{
  "nbformat": 4,
  "nbformat_minor": 0,
  "metadata": {
    "colab": {
      "name": "AutoML-H2O",
      "provenance": [],
      "collapsed_sections": []
    },
    "kernelspec": {
      "display_name": "Python 3",
      "name": "python3"
    }
  },
  "cells": [
    {
      "cell_type": "markdown",
      "metadata": {
        "id": "Avmvf0QSoqRs"
      },
      "source": [
        "# AutoML using H2O"
      ]
    },
    {
      "cell_type": "markdown",
      "metadata": {
        "id": "Ub-A8gZqMWXy"
      },
      "source": [
        "Copyright @ 2020 **ABCOM Information Systems Pvt. Ltd.** All Rights Reserved.\n",
        "\n",
        "Licensed under the Apache License, Version 2.0 (the \"License\"); you may not use this file except in compliance with the License. You may obtain a copy of the License at\n",
        "\n",
        "http://www.apache.org/licenses/LICENSE-2.0\n",
        "\n",
        "Unless required by applicable law or agreed to in writing, software distributed under the License is distributed on an \"AS IS\" BASIS, WITHOUT WARRANTIES OR CONDITIONS OF ANY KIND, either express or implied.\n",
        "\n",
        "See the License for the specific language governing permissions and limitations under the License."
      ]
    },
    {
      "cell_type": "markdown",
      "metadata": {
        "id": "0-XkjDzAeAPO"
      },
      "source": [
        "# Install H2O"
      ]
    },
    {
      "cell_type": "code",
      "metadata": {
        "id": "0xv1O6mmTX-z",
        "outputId": "b04f9c04-fc6d-4c62-8e7c-8d8065d403d8",
        "colab": {
          "base_uri": "https://localhost:8080/"
        }
      },
      "source": [
        "pip install h2o"
      ],
      "execution_count": null,
      "outputs": [
        {
          "output_type": "stream",
          "text": [
            "Collecting h2o\n",
            "\u001b[?25l  Downloading https://files.pythonhosted.org/packages/bb/55/494a42e7509d0874aa444ae4cad0bc7439c936b40e563550fbfabb540275/h2o-3.30.1.3.tar.gz (129.4MB)\n",
            "\u001b[K     |████████████████████████████████| 129.4MB 87kB/s \n",
            "\u001b[?25hRequirement already satisfied: requests in /usr/local/lib/python3.6/dist-packages (from h2o) (2.23.0)\n",
            "Requirement already satisfied: tabulate in /usr/local/lib/python3.6/dist-packages (from h2o) (0.8.7)\n",
            "Requirement already satisfied: future in /usr/local/lib/python3.6/dist-packages (from h2o) (0.16.0)\n",
            "Collecting colorama>=0.3.8\n",
            "  Downloading https://files.pythonhosted.org/packages/44/98/5b86278fbbf250d239ae0ecb724f8572af1c91f4a11edf4d36a206189440/colorama-0.4.4-py2.py3-none-any.whl\n",
            "Requirement already satisfied: urllib3!=1.25.0,!=1.25.1,<1.26,>=1.21.1 in /usr/local/lib/python3.6/dist-packages (from requests->h2o) (1.24.3)\n",
            "Requirement already satisfied: chardet<4,>=3.0.2 in /usr/local/lib/python3.6/dist-packages (from requests->h2o) (3.0.4)\n",
            "Requirement already satisfied: certifi>=2017.4.17 in /usr/local/lib/python3.6/dist-packages (from requests->h2o) (2020.6.20)\n",
            "Requirement already satisfied: idna<3,>=2.5 in /usr/local/lib/python3.6/dist-packages (from requests->h2o) (2.10)\n",
            "Building wheels for collected packages: h2o\n",
            "  Building wheel for h2o (setup.py) ... \u001b[?25l\u001b[?25hdone\n",
            "  Created wheel for h2o: filename=h2o-3.30.1.3-py2.py3-none-any.whl size=129446676 sha256=be8671ee11a75c73bf37775991bec65fa6f31eaa32801585419beda585bd2ba1\n",
            "  Stored in directory: /root/.cache/pip/wheels/3d/e6/07/53ce9be9cb61b33a79cb3ed1fc39f2dae84f6ee6fe1e373e5e\n",
            "Successfully built h2o\n",
            "Installing collected packages: colorama, h2o\n",
            "Successfully installed colorama-0.4.4 h2o-3.30.1.3\n"
          ],
          "name": "stdout"
        }
      ]
    },
    {
      "cell_type": "markdown",
      "metadata": {
        "id": "1jRMdS4fw0mi"
      },
      "source": [
        "# Start H2O cluster"
      ]
    },
    {
      "cell_type": "code",
      "metadata": {
        "id": "juZ0MnnrTNEV",
        "outputId": "bc161392-b6a4-43bc-ed0e-8ad7800feba4",
        "colab": {
          "base_uri": "https://localhost:8080/",
          "height": 555
        }
      },
      "source": [
        "import h2o\n",
        "from h2o.automl import H2OAutoML\n",
        "h2o.init()"
      ],
      "execution_count": null,
      "outputs": [
        {
          "output_type": "stream",
          "text": [
            "Checking whether there is an H2O instance running at http://localhost:54321 ..... not found.\n",
            "Attempting to start a local H2O server...\n",
            "  Java Version: openjdk version \"11.0.9\" 2020-10-20; OpenJDK Runtime Environment (build 11.0.9+11-Ubuntu-0ubuntu1.18.04.1); OpenJDK 64-Bit Server VM (build 11.0.9+11-Ubuntu-0ubuntu1.18.04.1, mixed mode, sharing)\n",
            "  Starting server from /usr/local/lib/python3.6/dist-packages/h2o/backend/bin/h2o.jar\n",
            "  Ice root: /tmp/tmpt2kna8tz\n",
            "  JVM stdout: /tmp/tmpt2kna8tz/h2o_unknownUser_started_from_python.out\n",
            "  JVM stderr: /tmp/tmpt2kna8tz/h2o_unknownUser_started_from_python.err\n",
            "  Server is running at http://127.0.0.1:54321\n",
            "Connecting to H2O server at http://127.0.0.1:54321 ... successful.\n"
          ],
          "name": "stdout"
        },
        {
          "output_type": "display_data",
          "data": {
            "text/html": [
              "<div style=\"overflow:auto\"><table style=\"width:50%\"><tr><td>H2O_cluster_uptime:</td>\n",
              "<td>02 secs</td></tr>\n",
              "<tr><td>H2O_cluster_timezone:</td>\n",
              "<td>Etc/UTC</td></tr>\n",
              "<tr><td>H2O_data_parsing_timezone:</td>\n",
              "<td>UTC</td></tr>\n",
              "<tr><td>H2O_cluster_version:</td>\n",
              "<td>3.30.1.3</td></tr>\n",
              "<tr><td>H2O_cluster_version_age:</td>\n",
              "<td>1 month and 12 days </td></tr>\n",
              "<tr><td>H2O_cluster_name:</td>\n",
              "<td>H2O_from_python_unknownUser_dhpwhi</td></tr>\n",
              "<tr><td>H2O_cluster_total_nodes:</td>\n",
              "<td>1</td></tr>\n",
              "<tr><td>H2O_cluster_free_memory:</td>\n",
              "<td>3.180 Gb</td></tr>\n",
              "<tr><td>H2O_cluster_total_cores:</td>\n",
              "<td>2</td></tr>\n",
              "<tr><td>H2O_cluster_allowed_cores:</td>\n",
              "<td>2</td></tr>\n",
              "<tr><td>H2O_cluster_status:</td>\n",
              "<td>accepting new members, healthy</td></tr>\n",
              "<tr><td>H2O_connection_url:</td>\n",
              "<td>http://127.0.0.1:54321</td></tr>\n",
              "<tr><td>H2O_connection_proxy:</td>\n",
              "<td>{\"http\": null, \"https\": null}</td></tr>\n",
              "<tr><td>H2O_internal_security:</td>\n",
              "<td>False</td></tr>\n",
              "<tr><td>H2O_API_Extensions:</td>\n",
              "<td>Amazon S3, XGBoost, Algos, AutoML, Core V3, TargetEncoder, Core V4</td></tr>\n",
              "<tr><td>Python_version:</td>\n",
              "<td>3.6.9 final</td></tr></table></div>"
            ],
            "text/plain": [
              "--------------------------  ------------------------------------------------------------------\n",
              "H2O_cluster_uptime:         02 secs\n",
              "H2O_cluster_timezone:       Etc/UTC\n",
              "H2O_data_parsing_timezone:  UTC\n",
              "H2O_cluster_version:        3.30.1.3\n",
              "H2O_cluster_version_age:    1 month and 12 days\n",
              "H2O_cluster_name:           H2O_from_python_unknownUser_dhpwhi\n",
              "H2O_cluster_total_nodes:    1\n",
              "H2O_cluster_free_memory:    3.180 Gb\n",
              "H2O_cluster_total_cores:    2\n",
              "H2O_cluster_allowed_cores:  2\n",
              "H2O_cluster_status:         accepting new members, healthy\n",
              "H2O_connection_url:         http://127.0.0.1:54321\n",
              "H2O_connection_proxy:       {\"http\": null, \"https\": null}\n",
              "H2O_internal_security:      False\n",
              "H2O_API_Extensions:         Amazon S3, XGBoost, Algos, AutoML, Core V3, TargetEncoder, Core V4\n",
              "Python_version:             3.6.9 final\n",
              "--------------------------  ------------------------------------------------------------------"
            ]
          },
          "metadata": {
            "tags": []
          }
        }
      ]
    },
    {
      "cell_type": "markdown",
      "metadata": {
        "id": "WyMCpv7o0Xhc"
      },
      "source": [
        "# Part I"
      ]
    },
    {
      "cell_type": "markdown",
      "metadata": {
        "id": "RMjenyOVe8EL"
      },
      "source": [
        "## Downloading data"
      ]
    },
    {
      "cell_type": "code",
      "metadata": {
        "id": "KoKokZsJTjjP",
        "outputId": "a13b9055-1ef0-4405-f701-261e44f5dcff",
        "colab": {
          "base_uri": "https://localhost:8080/"
        }
      },
      "source": [
        "!wget https://github.com/abcom-mltutorials/AutoML-H2O/blob/main/rossmann-store-sales.zip?raw=true"
      ],
      "execution_count": null,
      "outputs": [
        {
          "output_type": "stream",
          "text": [
            "--2020-11-10 12:34:20--  https://github.com/abcom-mltutorials/AutoML-H2O/blob/main/rossmann-store-sales.zip?raw=true\n",
            "Resolving github.com (github.com)... 192.30.255.113\n",
            "Connecting to github.com (github.com)|192.30.255.113|:443... connected.\n",
            "HTTP request sent, awaiting response... 302 Found\n",
            "Location: https://github.com/abcom-mltutorials/AutoML-H2O/raw/main/rossmann-store-sales.zip [following]\n",
            "--2020-11-10 12:34:20--  https://github.com/abcom-mltutorials/AutoML-H2O/raw/main/rossmann-store-sales.zip\n",
            "Reusing existing connection to github.com:443.\n",
            "HTTP request sent, awaiting response... 302 Found\n",
            "Location: https://raw.githubusercontent.com/abcom-mltutorials/AutoML-H2O/main/rossmann-store-sales.zip [following]\n",
            "--2020-11-10 12:34:21--  https://raw.githubusercontent.com/abcom-mltutorials/AutoML-H2O/main/rossmann-store-sales.zip\n",
            "Resolving raw.githubusercontent.com (raw.githubusercontent.com)... 151.101.0.133, 151.101.64.133, 151.101.128.133, ...\n",
            "Connecting to raw.githubusercontent.com (raw.githubusercontent.com)|151.101.0.133|:443... connected.\n",
            "HTTP request sent, awaiting response... 200 OK\n",
            "Length: 7328630 (7.0M) [application/zip]\n",
            "Saving to: ‘rossmann-store-sales.zip?raw=true’\n",
            "\n",
            "rossmann-store-sale 100%[===================>]   6.99M  25.4MB/s    in 0.3s    \n",
            "\n",
            "2020-11-10 12:34:21 (25.4 MB/s) - ‘rossmann-store-sales.zip?raw=true’ saved [7328630/7328630]\n",
            "\n"
          ],
          "name": "stdout"
        }
      ]
    },
    {
      "cell_type": "code",
      "metadata": {
        "id": "PDRiIIxHUBWj",
        "outputId": "2e70c184-94a7-45fa-e489-fec8ccabdd4c",
        "colab": {
          "base_uri": "https://localhost:8080/"
        }
      },
      "source": [
        "!unzip rossmann-store-sales.zip?raw=true"
      ],
      "execution_count": null,
      "outputs": [
        {
          "output_type": "stream",
          "text": [
            "Archive:  rossmann-store-sales.zip?raw=true\n",
            "  inflating: sample_submission.csv   \n",
            "  inflating: store.csv               \n",
            "  inflating: test.csv                \n",
            "  inflating: train.csv               \n"
          ],
          "name": "stdout"
        }
      ]
    },
    {
      "cell_type": "code",
      "metadata": {
        "id": "0RFkLIsoiVz7",
        "outputId": "3997dc9f-1f7c-4285-aacb-8c4095743422",
        "colab": {
          "base_uri": "https://localhost:8080/"
        }
      },
      "source": [
        "#load data into H2O\n",
        "traindf= h2o.import_file(\"/content/train.csv\")"
      ],
      "execution_count": null,
      "outputs": [
        {
          "output_type": "stream",
          "text": [
            "Parse progress: |█████████████████████████████████████████████████████████| 100%\n"
          ],
          "name": "stdout"
        }
      ]
    },
    {
      "cell_type": "code",
      "metadata": {
        "id": "G8KCkNhOlShw",
        "outputId": "9f920da9-0ed9-43f0-e612-19eb4587ad3c",
        "colab": {
          "base_uri": "https://localhost:8080/",
          "height": 254
        }
      },
      "source": [
        "traindf.head()"
      ],
      "execution_count": null,
      "outputs": [
        {
          "output_type": "display_data",
          "data": {
            "text/html": [
              "<table>\n",
              "<thead>\n",
              "<tr><th style=\"text-align: right;\">  Store</th><th style=\"text-align: right;\">  DayOfWeek</th><th>Date               </th><th style=\"text-align: right;\">  Sales</th><th style=\"text-align: right;\">  Customers</th><th style=\"text-align: right;\">  Open</th><th style=\"text-align: right;\">  Promo</th><th style=\"text-align: right;\">  StateHoliday</th><th style=\"text-align: right;\">  SchoolHoliday</th></tr>\n",
              "</thead>\n",
              "<tbody>\n",
              "<tr><td style=\"text-align: right;\">      1</td><td style=\"text-align: right;\">          5</td><td>2015-07-31 00:00:00</td><td style=\"text-align: right;\">   5263</td><td style=\"text-align: right;\">        555</td><td style=\"text-align: right;\">     1</td><td style=\"text-align: right;\">      1</td><td style=\"text-align: right;\">             0</td><td style=\"text-align: right;\">              1</td></tr>\n",
              "<tr><td style=\"text-align: right;\">      2</td><td style=\"text-align: right;\">          5</td><td>2015-07-31 00:00:00</td><td style=\"text-align: right;\">   6064</td><td style=\"text-align: right;\">        625</td><td style=\"text-align: right;\">     1</td><td style=\"text-align: right;\">      1</td><td style=\"text-align: right;\">             0</td><td style=\"text-align: right;\">              1</td></tr>\n",
              "<tr><td style=\"text-align: right;\">      3</td><td style=\"text-align: right;\">          5</td><td>2015-07-31 00:00:00</td><td style=\"text-align: right;\">   8314</td><td style=\"text-align: right;\">        821</td><td style=\"text-align: right;\">     1</td><td style=\"text-align: right;\">      1</td><td style=\"text-align: right;\">             0</td><td style=\"text-align: right;\">              1</td></tr>\n",
              "<tr><td style=\"text-align: right;\">      4</td><td style=\"text-align: right;\">          5</td><td>2015-07-31 00:00:00</td><td style=\"text-align: right;\">  13995</td><td style=\"text-align: right;\">       1498</td><td style=\"text-align: right;\">     1</td><td style=\"text-align: right;\">      1</td><td style=\"text-align: right;\">             0</td><td style=\"text-align: right;\">              1</td></tr>\n",
              "<tr><td style=\"text-align: right;\">      5</td><td style=\"text-align: right;\">          5</td><td>2015-07-31 00:00:00</td><td style=\"text-align: right;\">   4822</td><td style=\"text-align: right;\">        559</td><td style=\"text-align: right;\">     1</td><td style=\"text-align: right;\">      1</td><td style=\"text-align: right;\">             0</td><td style=\"text-align: right;\">              1</td></tr>\n",
              "<tr><td style=\"text-align: right;\">      6</td><td style=\"text-align: right;\">          5</td><td>2015-07-31 00:00:00</td><td style=\"text-align: right;\">   5651</td><td style=\"text-align: right;\">        589</td><td style=\"text-align: right;\">     1</td><td style=\"text-align: right;\">      1</td><td style=\"text-align: right;\">             0</td><td style=\"text-align: right;\">              1</td></tr>\n",
              "<tr><td style=\"text-align: right;\">      7</td><td style=\"text-align: right;\">          5</td><td>2015-07-31 00:00:00</td><td style=\"text-align: right;\">  15344</td><td style=\"text-align: right;\">       1414</td><td style=\"text-align: right;\">     1</td><td style=\"text-align: right;\">      1</td><td style=\"text-align: right;\">             0</td><td style=\"text-align: right;\">              1</td></tr>\n",
              "<tr><td style=\"text-align: right;\">      8</td><td style=\"text-align: right;\">          5</td><td>2015-07-31 00:00:00</td><td style=\"text-align: right;\">   8492</td><td style=\"text-align: right;\">        833</td><td style=\"text-align: right;\">     1</td><td style=\"text-align: right;\">      1</td><td style=\"text-align: right;\">             0</td><td style=\"text-align: right;\">              1</td></tr>\n",
              "<tr><td style=\"text-align: right;\">      9</td><td style=\"text-align: right;\">          5</td><td>2015-07-31 00:00:00</td><td style=\"text-align: right;\">   8565</td><td style=\"text-align: right;\">        687</td><td style=\"text-align: right;\">     1</td><td style=\"text-align: right;\">      1</td><td style=\"text-align: right;\">             0</td><td style=\"text-align: right;\">              1</td></tr>\n",
              "<tr><td style=\"text-align: right;\">     10</td><td style=\"text-align: right;\">          5</td><td>2015-07-31 00:00:00</td><td style=\"text-align: right;\">   7185</td><td style=\"text-align: right;\">        681</td><td style=\"text-align: right;\">     1</td><td style=\"text-align: right;\">      1</td><td style=\"text-align: right;\">             0</td><td style=\"text-align: right;\">              1</td></tr>\n",
              "</tbody>\n",
              "</table>"
            ]
          },
          "metadata": {
            "tags": []
          }
        },
        {
          "output_type": "execute_result",
          "data": {
            "text/plain": [
              ""
            ]
          },
          "metadata": {
            "tags": []
          },
          "execution_count": 6
        }
      ]
    },
    {
      "cell_type": "code",
      "metadata": {
        "id": "9kpJybUuVdIB",
        "outputId": "5bd24813-1371-4f4e-c090-f56f1b3ef2a1",
        "colab": {
          "base_uri": "https://localhost:8080/",
          "height": 493
        }
      },
      "source": [
        "traindf.describe()"
      ],
      "execution_count": null,
      "outputs": [
        {
          "output_type": "stream",
          "text": [
            "Rows:1017209\n",
            "Cols:9\n",
            "\n",
            "\n"
          ],
          "name": "stdout"
        },
        {
          "output_type": "display_data",
          "data": {
            "text/html": [
              "<table>\n",
              "<thead>\n",
              "<tr><th>       </th><th>Store            </th><th>DayOfWeek        </th><th>Date               </th><th>Sales            </th><th>Customers        </th><th>Open               </th><th>Promo             </th><th>StateHoliday  </th><th>SchoolHoliday      </th></tr>\n",
              "</thead>\n",
              "<tbody>\n",
              "<tr><td>type   </td><td>int              </td><td>int              </td><td>time               </td><td>int              </td><td>int              </td><td>int                </td><td>int               </td><td>int           </td><td>int                </td></tr>\n",
              "<tr><td>mins   </td><td>1.0              </td><td>1.0              </td><td>1356998400000.0    </td><td>0.0              </td><td>0.0              </td><td>0.0                </td><td>0.0               </td><td>0.0           </td><td>0.0                </td></tr>\n",
              "<tr><td>mean   </td><td>558.4297268309653</td><td>3.998340557348601</td><td>1397179842846.0571 </td><td>5773.818972305597</td><td>633.1459464082602</td><td>0.8301066939045958 </td><td>0.3815145166824124</td><td>0.0           </td><td>0.17864666946517382</td></tr>\n",
              "<tr><td>maxs   </td><td>1115.0           </td><td>7.0              </td><td>1438300800000.0    </td><td>41551.0          </td><td>7388.0           </td><td>1.0                </td><td>1.0               </td><td>0.0           </td><td>1.0                </td></tr>\n",
              "<tr><td>sigma  </td><td>321.9086511434529</td><td>1.99739096494053 </td><td>23712834841.056667 </td><td>3849.926175234752</td><td>464.4117338866319</td><td>0.37553922469319473</td><td>0.48575860487742  </td><td>0.0           </td><td>0.38305636818092625</td></tr>\n",
              "<tr><td>zeros  </td><td>0                </td><td>0                </td><td>0                  </td><td>172871           </td><td>172869           </td><td>172817             </td><td>629129            </td><td>986159        </td><td>835488             </td></tr>\n",
              "<tr><td>missing</td><td>0                </td><td>0                </td><td>0                  </td><td>0                </td><td>0                </td><td>0                  </td><td>0                 </td><td>31050         </td><td>0                  </td></tr>\n",
              "<tr><td>0      </td><td>1.0              </td><td>5.0              </td><td>2015-07-31 00:00:00</td><td>5263.0           </td><td>555.0            </td><td>1.0                </td><td>1.0               </td><td>0.0           </td><td>1.0                </td></tr>\n",
              "<tr><td>1      </td><td>2.0              </td><td>5.0              </td><td>2015-07-31 00:00:00</td><td>6064.0           </td><td>625.0            </td><td>1.0                </td><td>1.0               </td><td>0.0           </td><td>1.0                </td></tr>\n",
              "<tr><td>2      </td><td>3.0              </td><td>5.0              </td><td>2015-07-31 00:00:00</td><td>8314.0           </td><td>821.0            </td><td>1.0                </td><td>1.0               </td><td>0.0           </td><td>1.0                </td></tr>\n",
              "<tr><td>3      </td><td>4.0              </td><td>5.0              </td><td>2015-07-31 00:00:00</td><td>13995.0          </td><td>1498.0           </td><td>1.0                </td><td>1.0               </td><td>0.0           </td><td>1.0                </td></tr>\n",
              "<tr><td>4      </td><td>5.0              </td><td>5.0              </td><td>2015-07-31 00:00:00</td><td>4822.0           </td><td>559.0            </td><td>1.0                </td><td>1.0               </td><td>0.0           </td><td>1.0                </td></tr>\n",
              "<tr><td>5      </td><td>6.0              </td><td>5.0              </td><td>2015-07-31 00:00:00</td><td>5651.0           </td><td>589.0            </td><td>1.0                </td><td>1.0               </td><td>0.0           </td><td>1.0                </td></tr>\n",
              "<tr><td>6      </td><td>7.0              </td><td>5.0              </td><td>2015-07-31 00:00:00</td><td>15344.0          </td><td>1414.0           </td><td>1.0                </td><td>1.0               </td><td>0.0           </td><td>1.0                </td></tr>\n",
              "<tr><td>7      </td><td>8.0              </td><td>5.0              </td><td>2015-07-31 00:00:00</td><td>8492.0           </td><td>833.0            </td><td>1.0                </td><td>1.0               </td><td>0.0           </td><td>1.0                </td></tr>\n",
              "<tr><td>8      </td><td>9.0              </td><td>5.0              </td><td>2015-07-31 00:00:00</td><td>8565.0           </td><td>687.0            </td><td>1.0                </td><td>1.0               </td><td>0.0           </td><td>1.0                </td></tr>\n",
              "<tr><td>9      </td><td>10.0             </td><td>5.0              </td><td>2015-07-31 00:00:00</td><td>7185.0           </td><td>681.0            </td><td>1.0                </td><td>1.0               </td><td>0.0           </td><td>1.0                </td></tr>\n",
              "</tbody>\n",
              "</table>"
            ]
          },
          "metadata": {
            "tags": []
          }
        }
      ]
    },
    {
      "cell_type": "markdown",
      "metadata": {
        "id": "Ao2IDBNDihHL"
      },
      "source": [
        "## Features and Target seletions"
      ]
    },
    {
      "cell_type": "code",
      "metadata": {
        "id": "qTL0PZPqWoLp"
      },
      "source": [
        "features=['Store','DayOfWeek','Date','Open','Promo','StateHoliday','SchoolHoliday']\n",
        "target='Sales'"
      ],
      "execution_count": null,
      "outputs": []
    },
    {
      "cell_type": "markdown",
      "metadata": {
        "id": "v4c_WamwzJO7"
      },
      "source": [
        "## Running AutoML"
      ]
    },
    {
      "cell_type": "code",
      "metadata": {
        "id": "b6N4FV7FXhCk",
        "outputId": "3a9cefb8-b269-44ad-c432-00c5d2f94759",
        "colab": {
          "base_uri": "https://localhost:8080/"
        }
      },
      "source": [
        "aml= H2OAutoML(max_models=10,max_runtime_secs=300,seed=1)\n",
        "aml.train(x=features,y=target,training_frame=traindf)"
      ],
      "execution_count": null,
      "outputs": [
        {
          "output_type": "stream",
          "text": [
            "AutoML progress: |████████████████████████████████████████████████████████| 100%\n"
          ],
          "name": "stdout"
        }
      ]
    },
    {
      "cell_type": "markdown",
      "metadata": {
        "id": "5sdK8koxznCL"
      },
      "source": [
        "## Generating Leaderboard"
      ]
    },
    {
      "cell_type": "code",
      "metadata": {
        "id": "fypZaCAyfsvb",
        "outputId": "0ef0b34f-a24a-443a-85f3-48ae1e2cbe09",
        "colab": {
          "base_uri": "https://localhost:8080/",
          "height": 317
        }
      },
      "source": [
        "result = h2o.automl.get_leaderboard(aml, extra_columns = 'ALL')\n",
        "lb = aml.leaderboard\n",
        "lb.head(rows=lb.nrows)"
      ],
      "execution_count": null,
      "outputs": [
        {
          "output_type": "display_data",
          "data": {
            "text/html": [
              "<table>\n",
              "<thead>\n",
              "<tr><th>model_id                                           </th><th style=\"text-align: right;\">  mean_residual_deviance</th><th style=\"text-align: right;\">   rmse</th><th style=\"text-align: right;\">        mse</th><th style=\"text-align: right;\">    mae</th><th style=\"text-align: right;\">     rmsle</th></tr>\n",
              "</thead>\n",
              "<tbody>\n",
              "<tr><td>StackedEnsemble_AllModels_AutoML_20201110_123430   </td><td style=\"text-align: right;\">             6.17895e+06</td><td style=\"text-align: right;\">2485.75</td><td style=\"text-align: right;\">6.17895e+06</td><td style=\"text-align: right;\">1652.72</td><td style=\"text-align: right;\">nan       </td></tr>\n",
              "<tr><td>StackedEnsemble_BestOfFamily_AutoML_20201110_123430</td><td style=\"text-align: right;\">             6.71158e+06</td><td style=\"text-align: right;\">2590.67</td><td style=\"text-align: right;\">6.71158e+06</td><td style=\"text-align: right;\">1773.93</td><td style=\"text-align: right;\">  2.57259 </td></tr>\n",
              "<tr><td>DRF_1_AutoML_20201110_123430                       </td><td style=\"text-align: right;\">             7.86051e+06</td><td style=\"text-align: right;\">2803.66</td><td style=\"text-align: right;\">7.86051e+06</td><td style=\"text-align: right;\">1787.9 </td><td style=\"text-align: right;\">  0.389368</td></tr>\n",
              "<tr><td>GBM_5_AutoML_20201110_123430                       </td><td style=\"text-align: right;\">             1.28956e+07</td><td style=\"text-align: right;\">3591.05</td><td style=\"text-align: right;\">1.28956e+07</td><td style=\"text-align: right;\">2696.07</td><td style=\"text-align: right;\">  3.53902 </td></tr>\n",
              "<tr><td>GBM_3_AutoML_20201110_123430                       </td><td style=\"text-align: right;\">             1.30272e+07</td><td style=\"text-align: right;\">3609.33</td><td style=\"text-align: right;\">1.30272e+07</td><td style=\"text-align: right;\">2711.43</td><td style=\"text-align: right;\">  3.53939 </td></tr>\n",
              "<tr><td>GBM_1_AutoML_20201110_123430                       </td><td style=\"text-align: right;\">             1.30671e+07</td><td style=\"text-align: right;\">3614.85</td><td style=\"text-align: right;\">1.30671e+07</td><td style=\"text-align: right;\">2709.12</td><td style=\"text-align: right;\">  3.54002 </td></tr>\n",
              "<tr><td>GBM_2_AutoML_20201110_123430                       </td><td style=\"text-align: right;\">             1.30808e+07</td><td style=\"text-align: right;\">3616.74</td><td style=\"text-align: right;\">1.30808e+07</td><td style=\"text-align: right;\">2710.43</td><td style=\"text-align: right;\">  3.54172 </td></tr>\n",
              "<tr><td>GBM_4_AutoML_20201110_123430                       </td><td style=\"text-align: right;\">             1.30888e+07</td><td style=\"text-align: right;\">3617.85</td><td style=\"text-align: right;\">1.30888e+07</td><td style=\"text-align: right;\">2713.02</td><td style=\"text-align: right;\">  3.54471 </td></tr>\n",
              "<tr><td>GLM_1_AutoML_20201110_123430                       </td><td style=\"text-align: right;\">             1.4823e+07 </td><td style=\"text-align: right;\">3850.07</td><td style=\"text-align: right;\">1.4823e+07 </td><td style=\"text-align: right;\">2887.75</td><td style=\"text-align: right;\">  3.5926  </td></tr>\n",
              "<tr><td>XGBoost_1_AutoML_20201110_123430                   </td><td style=\"text-align: right;\">             2.47678e+07</td><td style=\"text-align: right;\">4976.72</td><td style=\"text-align: right;\">2.47678e+07</td><td style=\"text-align: right;\">3811.7 </td><td style=\"text-align: right;\">  1.02356 </td></tr>\n",
              "<tr><td>XGBoost_3_AutoML_20201110_123430                   </td><td style=\"text-align: right;\">             2.58119e+07</td><td style=\"text-align: right;\">5080.54</td><td style=\"text-align: right;\">2.58119e+07</td><td style=\"text-align: right;\">3982.76</td><td style=\"text-align: right;\">  2.40095 </td></tr>\n",
              "<tr><td>XGBoost_2_AutoML_20201110_123430                   </td><td style=\"text-align: right;\">             2.68494e+07</td><td style=\"text-align: right;\">5181.64</td><td style=\"text-align: right;\">2.68494e+07</td><td style=\"text-align: right;\">4044.87</td><td style=\"text-align: right;\">  1.09613 </td></tr>\n",
              "</tbody>\n",
              "</table>"
            ]
          },
          "metadata": {
            "tags": []
          }
        },
        {
          "output_type": "execute_result",
          "data": {
            "text/plain": [
              ""
            ]
          },
          "metadata": {
            "tags": []
          },
          "execution_count": 10
        }
      ]
    },
    {
      "cell_type": "markdown",
      "metadata": {
        "id": "XHCo9W0iz-w3"
      },
      "source": [
        "## Inference"
      ]
    },
    {
      "cell_type": "code",
      "metadata": {
        "id": "ngqL1eDcdZ3j",
        "outputId": "1040b386-b389-4813-fa75-56f7bf1e37d2",
        "colab": {
          "base_uri": "https://localhost:8080/",
          "height": 341
        }
      },
      "source": [
        "testdf= h2o.import_file('/content/test.csv')\n",
        "prediction = aml.predict(testdf)\n",
        "print (\"\\nPredicted sales: \", prediction)"
      ],
      "execution_count": null,
      "outputs": [
        {
          "output_type": "stream",
          "text": [
            "Parse progress: |█████████████████████████████████████████████████████████| 100%\n",
            "stackedensemble prediction progress: |████████████████████████████████████| 100%\n",
            "\n",
            "Predicted sales:  "
          ],
          "name": "stdout"
        },
        {
          "output_type": "display_data",
          "data": {
            "text/html": [
              "<table>\n",
              "<thead>\n",
              "<tr><th style=\"text-align: right;\">  predict</th></tr>\n",
              "</thead>\n",
              "<tbody>\n",
              "<tr><td style=\"text-align: right;\">  7338.29</td></tr>\n",
              "<tr><td style=\"text-align: right;\">  8507.2 </td></tr>\n",
              "<tr><td style=\"text-align: right;\">  8669.9 </td></tr>\n",
              "<tr><td style=\"text-align: right;\">  8093.49</td></tr>\n",
              "<tr><td style=\"text-align: right;\">  8093.49</td></tr>\n",
              "<tr><td style=\"text-align: right;\">  8093.49</td></tr>\n",
              "<tr><td style=\"text-align: right;\">  8093.49</td></tr>\n",
              "<tr><td style=\"text-align: right;\">  8096.65</td></tr>\n",
              "<tr><td style=\"text-align: right;\">  8096.65</td></tr>\n",
              "<tr><td style=\"text-align: right;\">  8096.65</td></tr>\n",
              "</tbody>\n",
              "</table>"
            ]
          },
          "metadata": {
            "tags": []
          }
        },
        {
          "output_type": "stream",
          "text": [
            "\n"
          ],
          "name": "stdout"
        }
      ]
    },
    {
      "cell_type": "markdown",
      "metadata": {
        "id": "7cz6Pbq-FUlR"
      },
      "source": [
        "# Part II"
      ]
    },
    {
      "cell_type": "markdown",
      "metadata": {
        "id": "waPuMJz_bxgs"
      },
      "source": [
        "## Deep Learning Algorithm"
      ]
    },
    {
      "cell_type": "markdown",
      "metadata": {
        "id": "heJ1RAbD0tV3"
      },
      "source": [
        "## Import estimator"
      ]
    },
    {
      "cell_type": "code",
      "metadata": {
        "id": "WiCCyzsPcobo"
      },
      "source": [
        "# Import the Deep Learning Estimator\n",
        "from h2o.estimators import H2ODeepLearningEstimator"
      ],
      "execution_count": null,
      "outputs": []
    },
    {
      "cell_type": "markdown",
      "metadata": {
        "id": "wesStenKcLAB"
      },
      "source": [
        "## Loading data"
      ]
    },
    {
      "cell_type": "code",
      "metadata": {
        "id": "n-PK67_XZevg",
        "outputId": "3ae125af-b9b9-4ffb-b21e-734b7c08a62d",
        "colab": {
          "base_uri": "https://localhost:8080/"
        }
      },
      "source": [
        "df= h2o.import_file(\"/content/train.csv\")\n",
        "train, test = df.split_frame([0.8], seed=42)"
      ],
      "execution_count": null,
      "outputs": [
        {
          "output_type": "stream",
          "text": [
            "Parse progress: |█████████████████████████████████████████████████████████| 100%\n"
          ],
          "name": "stdout"
        }
      ]
    },
    {
      "cell_type": "markdown",
      "metadata": {
        "id": "VG_XM9UQ09MH"
      },
      "source": [
        "## Model building"
      ]
    },
    {
      "cell_type": "code",
      "metadata": {
        "id": "nw4fflDQcZqc"
      },
      "source": [
        "dl = H2ODeepLearningEstimator(distribution=\"tweedie\",\n",
        "                               hidden=[5],\n",
        "                               epochs=1000,\n",
        "                               train_samples_per_iteration=-1,\n",
        "                               input_dropout_ratio=0.1,\n",
        "                               activation=\"Tanh\",\n",
        "                               single_node_mode=False,\n",
        "                               score_training_samples=0,\n",
        "                               score_validation_samples=0\n",
        "                              )                   "
      ],
      "execution_count": null,
      "outputs": []
    },
    {
      "cell_type": "markdown",
      "metadata": {
        "id": "rObMUbPy1H0c"
      },
      "source": [
        "## Model training"
      ]
    },
    {
      "cell_type": "code",
      "metadata": {
        "id": "sbFdbBPpyTOX"
      },
      "source": [
        "features=['Store','DayOfWeek','Date','Open','Promo','StateHoliday','SchoolHoliday']\n",
        "target='Sales'"
      ],
      "execution_count": null,
      "outputs": []
    },
    {
      "cell_type": "code",
      "metadata": {
        "id": "zYbQz9Dv5EOn",
        "outputId": "5a5f3749-7e2e-4403-ed4b-ce8fb1e6ab45",
        "colab": {
          "base_uri": "https://localhost:8080/"
        }
      },
      "source": [
        " dl.train(x=features,y=target,training_frame=train,validation_frame=test)"
      ],
      "execution_count": null,
      "outputs": [
        {
          "output_type": "stream",
          "text": [
            "/usr/local/lib/python3.6/dist-packages/h2o/estimators/estimator_base.py:200: RuntimeWarning: Dropping bad and constant columns: [StateHoliday]\n",
            "  warnings.warn(mesg[\"message\"], RuntimeWarning)\n"
          ],
          "name": "stderr"
        },
        {
          "output_type": "stream",
          "text": [
            "deeplearning Model Build progress: |██████████████████████████████████████| 100%\n"
          ],
          "name": "stdout"
        }
      ]
    },
    {
      "cell_type": "code",
      "metadata": {
        "id": "Y_7qb6f76rDK",
        "outputId": "f19ad45d-d524-4ab0-8671-b13c1ac4aaa3",
        "colab": {
          "base_uri": "https://localhost:8080/",
          "height": 1000
        }
      },
      "source": [
        "print(dl)"
      ],
      "execution_count": null,
      "outputs": [
        {
          "output_type": "stream",
          "text": [
            "Model Details\n",
            "=============\n",
            "H2ODeepLearningEstimator :  Deep Learning\n",
            "Model Key:  DeepLearning_model_python_1605011655972_1\n",
            "\n",
            "\n",
            "Status of Neuron Layers: predicting Sales, regression, tweedie distribution, Automatic loss, 41 weights/biases, 4.1 KB, 117,229,968 training samples, mini-batch size 1\n"
          ],
          "name": "stdout"
        },
        {
          "output_type": "display_data",
          "data": {
            "text/html": [
              "<div>\n",
              "<style scoped>\n",
              "    .dataframe tbody tr th:only-of-type {\n",
              "        vertical-align: middle;\n",
              "    }\n",
              "\n",
              "    .dataframe tbody tr th {\n",
              "        vertical-align: top;\n",
              "    }\n",
              "\n",
              "    .dataframe thead th {\n",
              "        text-align: right;\n",
              "    }\n",
              "</style>\n",
              "<table border=\"1\" class=\"dataframe\">\n",
              "  <thead>\n",
              "    <tr style=\"text-align: right;\">\n",
              "      <th></th>\n",
              "      <th></th>\n",
              "      <th>layer</th>\n",
              "      <th>units</th>\n",
              "      <th>type</th>\n",
              "      <th>dropout</th>\n",
              "      <th>l1</th>\n",
              "      <th>l2</th>\n",
              "      <th>mean_rate</th>\n",
              "      <th>rate_rms</th>\n",
              "      <th>momentum</th>\n",
              "      <th>mean_weight</th>\n",
              "      <th>weight_rms</th>\n",
              "      <th>mean_bias</th>\n",
              "      <th>bias_rms</th>\n",
              "    </tr>\n",
              "  </thead>\n",
              "  <tbody>\n",
              "    <tr>\n",
              "      <th>0</th>\n",
              "      <td></td>\n",
              "      <td>1</td>\n",
              "      <td>6</td>\n",
              "      <td>Input</td>\n",
              "      <td>10</td>\n",
              "      <td></td>\n",
              "      <td></td>\n",
              "      <td></td>\n",
              "      <td></td>\n",
              "      <td></td>\n",
              "      <td></td>\n",
              "      <td></td>\n",
              "      <td></td>\n",
              "      <td></td>\n",
              "    </tr>\n",
              "    <tr>\n",
              "      <th>1</th>\n",
              "      <td></td>\n",
              "      <td>2</td>\n",
              "      <td>5</td>\n",
              "      <td>Tanh</td>\n",
              "      <td>0</td>\n",
              "      <td>0</td>\n",
              "      <td>0</td>\n",
              "      <td>0.235821</td>\n",
              "      <td>0.422355</td>\n",
              "      <td>0</td>\n",
              "      <td>-1.33791</td>\n",
              "      <td>3.96536</td>\n",
              "      <td>4.42192</td>\n",
              "      <td>6.90047</td>\n",
              "    </tr>\n",
              "    <tr>\n",
              "      <th>2</th>\n",
              "      <td></td>\n",
              "      <td>3</td>\n",
              "      <td>1</td>\n",
              "      <td>Linear</td>\n",
              "      <td></td>\n",
              "      <td>0</td>\n",
              "      <td>0</td>\n",
              "      <td>6.39451e-06</td>\n",
              "      <td>1.01895e-07</td>\n",
              "      <td>0</td>\n",
              "      <td>1.60994</td>\n",
              "      <td>6.62218</td>\n",
              "      <td>10.2626</td>\n",
              "      <td>1.09713e-154</td>\n",
              "    </tr>\n",
              "  </tbody>\n",
              "</table>\n",
              "</div>"
            ],
            "text/plain": [
              "     layer  units    type  ... mean_weight weight_rms mean_bias      bias_rms\n",
              "0        1      6   Input  ...                                               \n",
              "1        2      5    Tanh  ...    -1.33791    3.96536   4.42192       6.90047\n",
              "2        3      1  Linear  ...     1.60994    6.62218   10.2626  1.09713e-154\n",
              "\n",
              "[3 rows x 14 columns]"
            ]
          },
          "metadata": {
            "tags": []
          }
        },
        {
          "output_type": "stream",
          "text": [
            "\n",
            "\n",
            "ModelMetricsRegression: deeplearning\n",
            "** Reported on train data. **\n",
            "\n",
            "MSE: 6857417.442711691\n",
            "RMSE: 2618.6671118551308\n",
            "MAE: 1729.311314647968\n",
            "RMSLE: 0.36796968993556445\n",
            "Mean Residual Deviance: 10.558378472342577\n",
            "\n",
            "ModelMetricsRegression: deeplearning\n",
            "** Reported on validation data. **\n",
            "\n",
            "MSE: 6910840.062842542\n",
            "RMSE: 2628.847668246021\n",
            "MAE: 1733.738939775577\n",
            "RMSLE: 0.3694304793684597\n",
            "Mean Residual Deviance: 10.62099367131425\n",
            "\n",
            "Scoring History: \n"
          ],
          "name": "stdout"
        },
        {
          "output_type": "display_data",
          "data": {
            "text/html": [
              "<div>\n",
              "<style scoped>\n",
              "    .dataframe tbody tr th:only-of-type {\n",
              "        vertical-align: middle;\n",
              "    }\n",
              "\n",
              "    .dataframe tbody tr th {\n",
              "        vertical-align: top;\n",
              "    }\n",
              "\n",
              "    .dataframe thead th {\n",
              "        text-align: right;\n",
              "    }\n",
              "</style>\n",
              "<table border=\"1\" class=\"dataframe\">\n",
              "  <thead>\n",
              "    <tr style=\"text-align: right;\">\n",
              "      <th></th>\n",
              "      <th></th>\n",
              "      <th>timestamp</th>\n",
              "      <th>duration</th>\n",
              "      <th>training_speed</th>\n",
              "      <th>epochs</th>\n",
              "      <th>iterations</th>\n",
              "      <th>samples</th>\n",
              "      <th>training_rmse</th>\n",
              "      <th>training_deviance</th>\n",
              "      <th>training_mae</th>\n",
              "      <th>training_r2</th>\n",
              "      <th>validation_rmse</th>\n",
              "      <th>validation_deviance</th>\n",
              "      <th>validation_mae</th>\n",
              "      <th>validation_r2</th>\n",
              "    </tr>\n",
              "  </thead>\n",
              "  <tbody>\n",
              "    <tr>\n",
              "      <th>0</th>\n",
              "      <td></td>\n",
              "      <td>2020-11-10 12:37:34</td>\n",
              "      <td>0.000 sec</td>\n",
              "      <td>None</td>\n",
              "      <td>0.0</td>\n",
              "      <td>0</td>\n",
              "      <td>0.0</td>\n",
              "      <td>NaN</td>\n",
              "      <td>NaN</td>\n",
              "      <td>NaN</td>\n",
              "      <td>NaN</td>\n",
              "      <td>NaN</td>\n",
              "      <td>NaN</td>\n",
              "      <td>NaN</td>\n",
              "      <td>NaN</td>\n",
              "    </tr>\n",
              "    <tr>\n",
              "      <th>1</th>\n",
              "      <td></td>\n",
              "      <td>2020-11-10 12:37:36</td>\n",
              "      <td>4.109 sec</td>\n",
              "      <td>432340 obs/sec</td>\n",
              "      <td>1.0</td>\n",
              "      <td>1</td>\n",
              "      <td>814097.0</td>\n",
              "      <td>2783.955263</td>\n",
              "      <td>12.093412</td>\n",
              "      <td>1787.568625</td>\n",
              "      <td>0.476981</td>\n",
              "      <td>2791.979172</td>\n",
              "      <td>12.144673</td>\n",
              "      <td>1791.131514</td>\n",
              "      <td>0.474551</td>\n",
              "    </tr>\n",
              "    <tr>\n",
              "      <th>2</th>\n",
              "      <td></td>\n",
              "      <td>2020-11-10 12:37:57</td>\n",
              "      <td>24.567 sec</td>\n",
              "      <td>815767 obs/sec</td>\n",
              "      <td>21.0</td>\n",
              "      <td>21</td>\n",
              "      <td>17096037.0</td>\n",
              "      <td>2937.322651</td>\n",
              "      <td>13.371305</td>\n",
              "      <td>1924.484352</td>\n",
              "      <td>0.417768</td>\n",
              "      <td>2954.362851</td>\n",
              "      <td>13.487938</td>\n",
              "      <td>1931.948263</td>\n",
              "      <td>0.411653</td>\n",
              "    </tr>\n",
              "    <tr>\n",
              "      <th>3</th>\n",
              "      <td></td>\n",
              "      <td>2020-11-10 12:38:12</td>\n",
              "      <td>38.544 sec</td>\n",
              "      <td>841804 obs/sec</td>\n",
              "      <td>35.0</td>\n",
              "      <td>35</td>\n",
              "      <td>28493395.0</td>\n",
              "      <td>2783.577786</td>\n",
              "      <td>12.160462</td>\n",
              "      <td>1882.852126</td>\n",
              "      <td>0.477123</td>\n",
              "      <td>2793.812044</td>\n",
              "      <td>12.229132</td>\n",
              "      <td>1887.696767</td>\n",
              "      <td>0.473861</td>\n",
              "    </tr>\n",
              "    <tr>\n",
              "      <th>4</th>\n",
              "      <td></td>\n",
              "      <td>2020-11-10 12:38:23</td>\n",
              "      <td>49.632 sec</td>\n",
              "      <td>853759 obs/sec</td>\n",
              "      <td>46.0</td>\n",
              "      <td>46</td>\n",
              "      <td>37448462.0</td>\n",
              "      <td>2731.278894</td>\n",
              "      <td>11.281388</td>\n",
              "      <td>1813.121485</td>\n",
              "      <td>0.496586</td>\n",
              "      <td>2744.767997</td>\n",
              "      <td>11.350940</td>\n",
              "      <td>1819.368464</td>\n",
              "      <td>0.492171</td>\n",
              "    </tr>\n",
              "    <tr>\n",
              "      <th>5</th>\n",
              "      <td></td>\n",
              "      <td>2020-11-10 12:38:34</td>\n",
              "      <td>1 min  0.744 sec</td>\n",
              "      <td>860950 obs/sec</td>\n",
              "      <td>57.0</td>\n",
              "      <td>57</td>\n",
              "      <td>46403529.0</td>\n",
              "      <td>2638.068718</td>\n",
              "      <td>10.756204</td>\n",
              "      <td>1741.094359</td>\n",
              "      <td>0.530360</td>\n",
              "      <td>2647.604930</td>\n",
              "      <td>10.812668</td>\n",
              "      <td>1745.469031</td>\n",
              "      <td>0.527488</td>\n",
              "    </tr>\n",
              "    <tr>\n",
              "      <th>6</th>\n",
              "      <td></td>\n",
              "      <td>2020-11-10 12:38:45</td>\n",
              "      <td>1 min 11.652 sec</td>\n",
              "      <td>842050 obs/sec</td>\n",
              "      <td>66.0</td>\n",
              "      <td>66</td>\n",
              "      <td>53730402.0</td>\n",
              "      <td>2662.725591</td>\n",
              "      <td>10.902603</td>\n",
              "      <td>1778.454426</td>\n",
              "      <td>0.521540</td>\n",
              "      <td>2671.766283</td>\n",
              "      <td>10.955908</td>\n",
              "      <td>1783.247579</td>\n",
              "      <td>0.518825</td>\n",
              "    </tr>\n",
              "    <tr>\n",
              "      <th>7</th>\n",
              "      <td></td>\n",
              "      <td>2020-11-10 12:38:55</td>\n",
              "      <td>1 min 21.915 sec</td>\n",
              "      <td>846694 obs/sec</td>\n",
              "      <td>76.0</td>\n",
              "      <td>76</td>\n",
              "      <td>61871372.0</td>\n",
              "      <td>2784.354234</td>\n",
              "      <td>12.282304</td>\n",
              "      <td>1837.859304</td>\n",
              "      <td>0.476831</td>\n",
              "      <td>2793.507914</td>\n",
              "      <td>12.342998</td>\n",
              "      <td>1841.301914</td>\n",
              "      <td>0.473976</td>\n",
              "    </tr>\n",
              "    <tr>\n",
              "      <th>8</th>\n",
              "      <td></td>\n",
              "      <td>2020-11-10 12:39:05</td>\n",
              "      <td>1 min 32.186 sec</td>\n",
              "      <td>850242 obs/sec</td>\n",
              "      <td>86.0</td>\n",
              "      <td>86</td>\n",
              "      <td>70012342.0</td>\n",
              "      <td>2618.667112</td>\n",
              "      <td>10.558378</td>\n",
              "      <td>1729.311315</td>\n",
              "      <td>0.537242</td>\n",
              "      <td>2628.847668</td>\n",
              "      <td>10.620994</td>\n",
              "      <td>1733.738940</td>\n",
              "      <td>0.534160</td>\n",
              "    </tr>\n",
              "    <tr>\n",
              "      <th>9</th>\n",
              "      <td></td>\n",
              "      <td>2020-11-10 12:39:16</td>\n",
              "      <td>1 min 42.282 sec</td>\n",
              "      <td>853817 obs/sec</td>\n",
              "      <td>96.0</td>\n",
              "      <td>96</td>\n",
              "      <td>78153312.0</td>\n",
              "      <td>2682.358122</td>\n",
              "      <td>11.072975</td>\n",
              "      <td>1822.452116</td>\n",
              "      <td>0.514458</td>\n",
              "      <td>2692.487779</td>\n",
              "      <td>11.135043</td>\n",
              "      <td>1828.048580</td>\n",
              "      <td>0.511332</td>\n",
              "    </tr>\n",
              "    <tr>\n",
              "      <th>10</th>\n",
              "      <td></td>\n",
              "      <td>2020-11-10 12:39:25</td>\n",
              "      <td>1 min 51.383 sec</td>\n",
              "      <td>857141 obs/sec</td>\n",
              "      <td>105.0</td>\n",
              "      <td>105</td>\n",
              "      <td>85480185.0</td>\n",
              "      <td>2696.957894</td>\n",
              "      <td>11.200551</td>\n",
              "      <td>1864.537779</td>\n",
              "      <td>0.509159</td>\n",
              "      <td>2707.503070</td>\n",
              "      <td>11.268131</td>\n",
              "      <td>1870.525217</td>\n",
              "      <td>0.505867</td>\n",
              "    </tr>\n",
              "    <tr>\n",
              "      <th>11</th>\n",
              "      <td></td>\n",
              "      <td>2020-11-10 12:39:34</td>\n",
              "      <td>2 min  0.505 sec</td>\n",
              "      <td>860089 obs/sec</td>\n",
              "      <td>114.0</td>\n",
              "      <td>114</td>\n",
              "      <td>92807058.0</td>\n",
              "      <td>2761.180222</td>\n",
              "      <td>11.985438</td>\n",
              "      <td>1828.728300</td>\n",
              "      <td>0.485503</td>\n",
              "      <td>2770.179880</td>\n",
              "      <td>12.042993</td>\n",
              "      <td>1832.603680</td>\n",
              "      <td>0.482724</td>\n",
              "    </tr>\n",
              "    <tr>\n",
              "      <th>12</th>\n",
              "      <td></td>\n",
              "      <td>2020-11-10 12:39:44</td>\n",
              "      <td>2 min 10.802 sec</td>\n",
              "      <td>860677 obs/sec</td>\n",
              "      <td>124.0</td>\n",
              "      <td>124</td>\n",
              "      <td>100948028.0</td>\n",
              "      <td>2776.105721</td>\n",
              "      <td>12.399617</td>\n",
              "      <td>1835.036983</td>\n",
              "      <td>0.479926</td>\n",
              "      <td>2784.963707</td>\n",
              "      <td>12.460260</td>\n",
              "      <td>1838.200459</td>\n",
              "      <td>0.477189</td>\n",
              "    </tr>\n",
              "    <tr>\n",
              "      <th>13</th>\n",
              "      <td></td>\n",
              "      <td>2020-11-10 12:39:54</td>\n",
              "      <td>2 min 20.768 sec</td>\n",
              "      <td>863366 obs/sec</td>\n",
              "      <td>134.0</td>\n",
              "      <td>134</td>\n",
              "      <td>109088998.0</td>\n",
              "      <td>2779.885350</td>\n",
              "      <td>12.280009</td>\n",
              "      <td>1832.484281</td>\n",
              "      <td>0.478509</td>\n",
              "      <td>2788.402827</td>\n",
              "      <td>12.334606</td>\n",
              "      <td>1835.835472</td>\n",
              "      <td>0.475896</td>\n",
              "    </tr>\n",
              "    <tr>\n",
              "      <th>14</th>\n",
              "      <td></td>\n",
              "      <td>2020-11-10 12:40:04</td>\n",
              "      <td>2 min 30.686 sec</td>\n",
              "      <td>866156 obs/sec</td>\n",
              "      <td>144.0</td>\n",
              "      <td>144</td>\n",
              "      <td>117229968.0</td>\n",
              "      <td>2687.087198</td>\n",
              "      <td>11.038093</td>\n",
              "      <td>1824.778671</td>\n",
              "      <td>0.512745</td>\n",
              "      <td>2697.040183</td>\n",
              "      <td>11.099479</td>\n",
              "      <td>1829.788401</td>\n",
              "      <td>0.509679</td>\n",
              "    </tr>\n",
              "    <tr>\n",
              "      <th>15</th>\n",
              "      <td></td>\n",
              "      <td>2020-11-10 12:40:05</td>\n",
              "      <td>2 min 31.674 sec</td>\n",
              "      <td>866137 obs/sec</td>\n",
              "      <td>144.0</td>\n",
              "      <td>144</td>\n",
              "      <td>117229968.0</td>\n",
              "      <td>2618.667112</td>\n",
              "      <td>10.558378</td>\n",
              "      <td>1729.311315</td>\n",
              "      <td>0.537242</td>\n",
              "      <td>2628.847668</td>\n",
              "      <td>10.620994</td>\n",
              "      <td>1733.738940</td>\n",
              "      <td>0.534160</td>\n",
              "    </tr>\n",
              "  </tbody>\n",
              "</table>\n",
              "</div>"
            ],
            "text/plain": [
              "                timestamp  ... validation_mae validation_r2\n",
              "0     2020-11-10 12:37:34  ...            NaN           NaN\n",
              "1     2020-11-10 12:37:36  ...    1791.131514      0.474551\n",
              "2     2020-11-10 12:37:57  ...    1931.948263      0.411653\n",
              "3     2020-11-10 12:38:12  ...    1887.696767      0.473861\n",
              "4     2020-11-10 12:38:23  ...    1819.368464      0.492171\n",
              "5     2020-11-10 12:38:34  ...    1745.469031      0.527488\n",
              "6     2020-11-10 12:38:45  ...    1783.247579      0.518825\n",
              "7     2020-11-10 12:38:55  ...    1841.301914      0.473976\n",
              "8     2020-11-10 12:39:05  ...    1733.738940      0.534160\n",
              "9     2020-11-10 12:39:16  ...    1828.048580      0.511332\n",
              "10    2020-11-10 12:39:25  ...    1870.525217      0.505867\n",
              "11    2020-11-10 12:39:34  ...    1832.603680      0.482724\n",
              "12    2020-11-10 12:39:44  ...    1838.200459      0.477189\n",
              "13    2020-11-10 12:39:54  ...    1835.835472      0.475896\n",
              "14    2020-11-10 12:40:04  ...    1829.788401      0.509679\n",
              "15    2020-11-10 12:40:05  ...    1733.738940      0.534160\n",
              "\n",
              "[16 rows x 15 columns]"
            ]
          },
          "metadata": {
            "tags": []
          }
        },
        {
          "output_type": "stream",
          "text": [
            "\n",
            "Variable Importances: \n"
          ],
          "name": "stdout"
        },
        {
          "output_type": "display_data",
          "data": {
            "text/html": [
              "<div>\n",
              "<style scoped>\n",
              "    .dataframe tbody tr th:only-of-type {\n",
              "        vertical-align: middle;\n",
              "    }\n",
              "\n",
              "    .dataframe tbody tr th {\n",
              "        vertical-align: top;\n",
              "    }\n",
              "\n",
              "    .dataframe thead th {\n",
              "        text-align: right;\n",
              "    }\n",
              "</style>\n",
              "<table border=\"1\" class=\"dataframe\">\n",
              "  <thead>\n",
              "    <tr style=\"text-align: right;\">\n",
              "      <th></th>\n",
              "      <th>variable</th>\n",
              "      <th>relative_importance</th>\n",
              "      <th>scaled_importance</th>\n",
              "      <th>percentage</th>\n",
              "    </tr>\n",
              "  </thead>\n",
              "  <tbody>\n",
              "    <tr>\n",
              "      <th>0</th>\n",
              "      <td>Open</td>\n",
              "      <td>1.000000</td>\n",
              "      <td>1.000000</td>\n",
              "      <td>0.644378</td>\n",
              "    </tr>\n",
              "    <tr>\n",
              "      <th>1</th>\n",
              "      <td>Promo</td>\n",
              "      <td>0.285726</td>\n",
              "      <td>0.285726</td>\n",
              "      <td>0.184115</td>\n",
              "    </tr>\n",
              "    <tr>\n",
              "      <th>2</th>\n",
              "      <td>DayOfWeek</td>\n",
              "      <td>0.136520</td>\n",
              "      <td>0.136520</td>\n",
              "      <td>0.087971</td>\n",
              "    </tr>\n",
              "    <tr>\n",
              "      <th>3</th>\n",
              "      <td>SchoolHoliday</td>\n",
              "      <td>0.055688</td>\n",
              "      <td>0.055688</td>\n",
              "      <td>0.035884</td>\n",
              "    </tr>\n",
              "    <tr>\n",
              "      <th>4</th>\n",
              "      <td>Date</td>\n",
              "      <td>0.044772</td>\n",
              "      <td>0.044772</td>\n",
              "      <td>0.028850</td>\n",
              "    </tr>\n",
              "    <tr>\n",
              "      <th>5</th>\n",
              "      <td>Store</td>\n",
              "      <td>0.029178</td>\n",
              "      <td>0.029178</td>\n",
              "      <td>0.018802</td>\n",
              "    </tr>\n",
              "  </tbody>\n",
              "</table>\n",
              "</div>"
            ],
            "text/plain": [
              "        variable  relative_importance  scaled_importance  percentage\n",
              "0           Open             1.000000           1.000000    0.644378\n",
              "1          Promo             0.285726           0.285726    0.184115\n",
              "2      DayOfWeek             0.136520           0.136520    0.087971\n",
              "3  SchoolHoliday             0.055688           0.055688    0.035884\n",
              "4           Date             0.044772           0.044772    0.028850\n",
              "5          Store             0.029178           0.029178    0.018802"
            ]
          },
          "metadata": {
            "tags": []
          }
        },
        {
          "output_type": "stream",
          "text": [
            "\n"
          ],
          "name": "stdout"
        }
      ]
    },
    {
      "cell_type": "markdown",
      "metadata": {
        "id": "CBBZto1k1RtH"
      },
      "source": [
        "## Model evaluation"
      ]
    },
    {
      "cell_type": "code",
      "metadata": {
        "id": "k9lLwJZtZ1H3",
        "outputId": "e15df633-ef96-4992-a938-e11aec46d68d",
        "colab": {
          "base_uri": "https://localhost:8080/"
        }
      },
      "source": [
        "#Evaluate the performance\n",
        "dlperformance = dl.model_performance()\n",
        "dlperformance"
      ],
      "execution_count": null,
      "outputs": [
        {
          "output_type": "stream",
          "text": [
            "\n",
            "ModelMetricsRegression: deeplearning\n",
            "** Reported on train data. **\n",
            "\n",
            "MSE: 6857417.442711691\n",
            "RMSE: 2618.6671118551308\n",
            "MAE: 1729.311314647968\n",
            "RMSLE: 0.36796968993556445\n",
            "Mean Residual Deviance: 10.558378472342577\n"
          ],
          "name": "stdout"
        },
        {
          "output_type": "execute_result",
          "data": {
            "text/plain": [
              ""
            ]
          },
          "metadata": {
            "tags": []
          },
          "execution_count": 18
        }
      ]
    }
  ]
}